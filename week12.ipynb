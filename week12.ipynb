{
 "cells": [
  {
   "cell_type": "markdown",
   "id": "f620afc1",
   "metadata": {},
   "source": [
    "# IS362 - Week 12 Project"
   ]
  },
  {
   "cell_type": "code",
   "execution_count": 1,
   "id": "1111249e",
   "metadata": {},
   "outputs": [
    {
     "data": {
      "text/plain": [
       "<Figure size 432x288 with 0 Axes>"
      ]
     },
     "metadata": {},
     "output_type": "display_data"
    }
   ],
   "source": [
    "import pandas as pd\n",
    "import numpy as np\n",
    "import matplotlib.pyplot as plt\n",
    "manager = plt.get_current_fig_manager()\n",
    "manager.full_screen_toggle()"
   ]
  },
  {
   "cell_type": "code",
   "execution_count": 2,
   "id": "969c6698",
   "metadata": {},
   "outputs": [],
   "source": [
    "def pois_code(cell):\n",
    "    if cell == 'p':\n",
    "        return 0\n",
    "    elif cell == 'e':\n",
    "        return 1\n",
    "    else:\n",
    "        return 99"
   ]
  },
  {
   "cell_type": "code",
   "execution_count": 3,
   "id": "505a0618",
   "metadata": {},
   "outputs": [],
   "source": [
    "def cap_shape_code(cell):\n",
    "    if cell == 'b':\n",
    "        return 0\n",
    "    elif cell =='c':\n",
    "        return 1\n",
    "    elif cell =='x':\n",
    "        return 2\n",
    "    elif cell =='f':\n",
    "        return 3\n",
    "    elif cell =='k':\n",
    "        return 4\n",
    "    elif cell =='s':\n",
    "        return 5\n",
    "    else:\n",
    "        return 99"
   ]
  },
  {
   "cell_type": "code",
   "execution_count": 4,
   "id": "5d0e6be9",
   "metadata": {},
   "outputs": [],
   "source": [
    "def odor_code(cell):\n",
    "    if cell == 'a':\n",
    "        return 0\n",
    "    elif cell =='l':\n",
    "        return 1\n",
    "    elif cell =='c':\n",
    "        return 2\n",
    "    elif cell =='y':\n",
    "        return 3\n",
    "    elif cell =='f':\n",
    "        return 4\n",
    "    elif cell =='m':\n",
    "        return 5\n",
    "    elif cell =='n':\n",
    "        return 6\n",
    "    elif cell =='p':\n",
    "        return 7\n",
    "    elif cell =='s':\n",
    "        return 8\n",
    "    else:\n",
    "        return 99"
   ]
  },
  {
   "cell_type": "code",
   "execution_count": 5,
   "id": "47d50609",
   "metadata": {},
   "outputs": [],
   "source": [
    "tup1 = ('poisonous','cap-shape','cap-surface','cap-color','bruises?','odor','gill-attachment',\n",
    "        'gill-spacing','gill-size','gill-color','stalk-shape','stalk-root','stalk-surface-above-ring',\n",
    "        'stalk-surface-below-ring','stalk-color-above-ring','stalk-color-below-ring','veil-type',\n",
    "        'veil-color','ring-number','ring-type','spore-print-color','population','habitat')\n",
    "mdata = pd.read_csv('agaricus-lepiota.data',names=tup1,converters={'poisonous': pois_code,'cap-shape':cap_shape_code,'odor':odor_code})\n",
    "mdata = mdata.fillna(value=99)\n"
   ]
  },
  {
   "cell_type": "code",
   "execution_count": 6,
   "id": "15033672",
   "metadata": {},
   "outputs": [],
   "source": [
    "#Look at entry above and below, maybe it will work. Trying to cheese convert all values \n",
    "# and then Pearsons Correlation\n",
    "def num_str_coding(convertee):\n",
    "    newdict= {}\n",
    "    for x in range (len(convertee.unique())):\n",
    "        newdict[x] = convertee.unique()[x]\n",
    "    return newdict"
   ]
  },
  {
   "cell_type": "code",
   "execution_count": 7,
   "id": "d18edfa1",
   "metadata": {
    "scrolled": true
   },
   "outputs": [
    {
     "data": {
      "text/plain": [
       "{0: 's', 1: 'y', 2: 'f', 3: 'g'}"
      ]
     },
     "execution_count": 7,
     "metadata": {},
     "output_type": "execute_result"
    }
   ],
   "source": [
    "num_str_coding(mdata['cap-surface'])"
   ]
  },
  {
   "cell_type": "code",
   "execution_count": 8,
   "id": "c36791d2",
   "metadata": {},
   "outputs": [
    {
     "data": {
      "text/plain": [
       "<AxesSubplot:xlabel='odor', ylabel='poisonous'>"
      ]
     },
     "execution_count": 8,
     "metadata": {},
     "output_type": "execute_result"
    },
    {
     "data": {
      "image/png": "[encoded data removed]",
      "text/plain": [
       "<Figure size 432x288 with 1 Axes>"
      ]
     },
     "metadata": {
      "needs_background": "light"
     },
     "output_type": "display_data"
    }
   ],
   "source": [
    "mdata.plot.scatter('odor','poisonous')"
   ]
  },
  {
   "cell_type": "code",
   "execution_count": 9,
   "id": "14f5c563",
   "metadata": {
    "scrolled": false
   },
   "outputs": [
    {
     "data": {
      "text/plain": [
       "<AxesSubplot:xlabel='cap-shape', ylabel='poisonous'>"
      ]
     },
     "execution_count": 9,
     "metadata": {},
     "output_type": "execute_result"
    },
    {
     "data": {
      "image/png": "[encoded data removed]",
      "text/plain": [
       "<Figure size 432x288 with 1 Axes>"
      ]
     },
     "metadata": {
      "needs_background": "light"
     },
     "output_type": "display_data"
    }
   ],
   "source": [
    "mdata.plot.scatter('cap-shape','poisonous')"
   ]
  },
  {
   "cell_type": "code",
   "execution_count": 10,
   "id": "719034bd",
   "metadata": {},
   "outputs": [],
   "source": [
    "def data_preprocess(input_data=pd.DataFrame,category=str(),rndict=dict()):\n",
    "    f1, f2 = input_data.poisonous==0,input_data.poisonous==1\n",
    "    fig, axes = plt.subplots(1,2,figsize=(12,4))\n",
    "    a = [input_data[f1][category].value_counts(normalize=True),\n",
    "    input_data[f2][category].value_counts(normalize=True)]\n",
    "    a[0].rename(rndict).plot(kind='bar',ax=axes[0]); axes[0].set_title('Edible')\n",
    "    a[1].rename(rndict).plot(kind='bar',ax=axes[1]); axes[1].set_title('Poisonous')"
   ]
  },
  {
   "cell_type": "code",
   "execution_count": 11,
   "id": "88d7dede",
   "metadata": {},
   "outputs": [
    {
     "data": {
      "image/png": "[encoded data removed]",
      "text/plain": [
       "<Figure size 864x288 with 2 Axes>"
      ]
     },
     "metadata": {
      "needs_background": "light"
     },
     "output_type": "display_data"
    }
   ],
   "source": [
    "cap_shape_dict={0:'bell',1:'conical',2:'convex',3:'flat',0:'bell',4:'knobbed',5:'sunken'}\n",
    "data_preprocess(mdata,'cap-shape',cap_shape_dict)"
   ]
  },
  {
   "cell_type": "code",
   "execution_count": 12,
   "id": "ea1bf4a3",
   "metadata": {
    "scrolled": false
   },
   "outputs": [
    {
     "data": {
      "image/png": "[encoded data removed]",
      "text/plain": [
       "<Figure size 864x288 with 2 Axes>"
      ]
     },
     "metadata": {
      "needs_background": "light"
     },
     "output_type": "display_data"
    }
   ],
   "source": [
    "data_preprocess(mdata,'odor',{0:'almond',1:'anise',2:'creosote',3:'fishy',4:'foul',5:'musty',6:'none',7:'pungent',8:'spicy'})"
   ]
  },
  {
   "cell_type": "markdown",
   "id": "5f6e12e5",
   "metadata": {},
   "source": [
    "## Odor is a much better indicator for edible vs dangerous mushrooms."
   ]
  },
  {
   "cell_type": "markdown",
   "id": "29c42876",
   "metadata": {},
   "source": [
    "### Below is for the next part."
   ]
  },
  {
   "cell_type": "markdown",
   "id": "edfc4888",
   "metadata": {},
   "source": [
    "___"
   ]
  },
  {
   "cell_type": "code",
   "execution_count": null,
   "id": "20b95b37",
   "metadata": {},
   "outputs": [],
   "source": [
    "wholemdata = pd.read_csv('agaricus-lepiota.data',names=tup1)\n",
    "wholemdata"
   ]
  },
  {
   "cell_type": "code",
   "execution_count": 14,
   "id": "8399df90",
   "metadata": {},
   "outputs": [
    {
     "data": {
      "text/plain": [
       "dict_keys([0, 1])"
      ]
     },
     "execution_count": 14,
     "metadata": {},
     "output_type": "execute_result"
    }
   ],
   "source": [
    "def num_str_coding(df=pd.DataFrame):\n",
    "    dwhole = {}\n",
    "    for col in df:\n",
    "        dsub= {}\n",
    "        for x in range (len(df[col].unique())):\n",
    "                dsub[df[col].unique()[x]] = x\n",
    "        dwhole[col]=dsub\n",
    "    return dwhole\n",
    "dwhole = num_str_coding(mdata)\n",
    "mdata\n",
    "dwhole\n",
    "dwhole['poisonous'].keys()"
   ]
  },
  {
   "cell_type": "code",
   "execution_count": 15,
   "id": "8f61bdc6",
   "metadata": {},
   "outputs": [
    {
     "ename": "TypeError",
     "evalue": "tuple indices must be integers or slices, not str",
     "output_type": "error",
     "traceback": [
      "\u001b[0;31m---------------------------------------------------------------------------\u001b[0m",
      "\u001b[0;31mTypeError\u001b[0m                                 Traceback (most recent call last)",
      "\u001b[0;32m/tmp/ipykernel_10694/2089117331.py\u001b[0m in \u001b[0;36m<module>\u001b[0;34m\u001b[0m\n\u001b[1;32m     10\u001b[0m         \u001b[0;34m'stalk-surface-below-ring'\u001b[0m\u001b[0;34m,\u001b[0m\u001b[0;34m'stalk-color-above-ring'\u001b[0m\u001b[0;34m,\u001b[0m\u001b[0;34m'stalk-color-below-ring'\u001b[0m\u001b[0;34m,\u001b[0m\u001b[0;34m'veil-type'\u001b[0m\u001b[0;34m,\u001b[0m\u001b[0;34m\u001b[0m\u001b[0;34m\u001b[0m\u001b[0m\n\u001b[1;32m     11\u001b[0m         'veil-color','ring-number','ring-type','spore-print-color','population','habitat')\n\u001b[0;32m---> 12\u001b[0;31m \u001b[0mmdata\u001b[0m \u001b[0;34m=\u001b[0m \u001b[0mpd\u001b[0m\u001b[0;34m.\u001b[0m\u001b[0mread_csv\u001b[0m\u001b[0;34m(\u001b[0m\u001b[0;34m'agaricus-lepiota.data'\u001b[0m\u001b[0;34m,\u001b[0m\u001b[0mnames\u001b[0m\u001b[0;34m=\u001b[0m\u001b[0mtup1\u001b[0m\u001b[0;34m,\u001b[0m\u001b[0mconverters\u001b[0m\u001b[0;34m=\u001b[0m\u001b[0;34m{\u001b[0m\u001b[0;34m'poisonous'\u001b[0m\u001b[0;34m:\u001b[0m \u001b[0;32mlambda\u001b[0m \u001b[0mcell\u001b[0m \u001b[0;34m:\u001b[0m\u001b[0mdwhole\u001b[0m\u001b[0;34m[\u001b[0m\u001b[0mtup1\u001b[0m\u001b[0;34m[\u001b[0m\u001b[0;34m'poisonous'\u001b[0m\u001b[0;34m]\u001b[0m\u001b[0;34m]\u001b[0m\u001b[0;34m[\u001b[0m\u001b[0mcell\u001b[0m\u001b[0;34m]\u001b[0m\u001b[0;34m}\u001b[0m\u001b[0;34m)\u001b[0m\u001b[0;34m\u001b[0m\u001b[0;34m\u001b[0m\u001b[0m\n\u001b[0m\u001b[1;32m     13\u001b[0m \u001b[0;31m#mdata = mdata.fillna(value=99)\u001b[0m\u001b[0;34m\u001b[0m\u001b[0;34m\u001b[0m\u001b[0m\n",
      "\u001b[0;32m~/.local/lib/python3.9/site-packages/pandas/io/parsers.py\u001b[0m in \u001b[0;36mread_csv\u001b[0;34m(filepath_or_buffer, sep, delimiter, header, names, index_col, usecols, squeeze, prefix, mangle_dupe_cols, dtype, engine, converters, true_values, false_values, skipinitialspace, skiprows, skipfooter, nrows, na_values, keep_default_na, na_filter, verbose, skip_blank_lines, parse_dates, infer_datetime_format, keep_date_col, date_parser, dayfirst, cache_dates, iterator, chunksize, compression, thousands, decimal, lineterminator, quotechar, quoting, doublequote, escapechar, comment, encoding, dialect, error_bad_lines, warn_bad_lines, delim_whitespace, low_memory, memory_map, float_precision, storage_options)\u001b[0m\n\u001b[1;32m    608\u001b[0m     \u001b[0mkwds\u001b[0m\u001b[0;34m.\u001b[0m\u001b[0mupdate\u001b[0m\u001b[0;34m(\u001b[0m\u001b[0mkwds_defaults\u001b[0m\u001b[0;34m)\u001b[0m\u001b[0;34m\u001b[0m\u001b[0;34m\u001b[0m\u001b[0m\n\u001b[1;32m    609\u001b[0m \u001b[0;34m\u001b[0m\u001b[0m\n\u001b[0;32m--> 610\u001b[0;31m     \u001b[0;32mreturn\u001b[0m \u001b[0m_read\u001b[0m\u001b[0;34m(\u001b[0m\u001b[0mfilepath_or_buffer\u001b[0m\u001b[0;34m,\u001b[0m \u001b[0mkwds\u001b[0m\u001b[0;34m)\u001b[0m\u001b[0;34m\u001b[0m\u001b[0;34m\u001b[0m\u001b[0m\n\u001b[0m\u001b[1;32m    611\u001b[0m \u001b[0;34m\u001b[0m\u001b[0m\n\u001b[1;32m    612\u001b[0m \u001b[0;34m\u001b[0m\u001b[0m\n",
      "\u001b[0;32m~/.local/lib/python3.9/site-packages/pandas/io/parsers.py\u001b[0m in \u001b[0;36m_read\u001b[0;34m(filepath_or_buffer, kwds)\u001b[0m\n\u001b[1;32m    466\u001b[0m \u001b[0;34m\u001b[0m\u001b[0m\n\u001b[1;32m    467\u001b[0m     \u001b[0;32mwith\u001b[0m \u001b[0mparser\u001b[0m\u001b[0;34m:\u001b[0m\u001b[0;34m\u001b[0m\u001b[0;34m\u001b[0m\u001b[0m\n\u001b[0;32m--> 468\u001b[0;31m         \u001b[0;32mreturn\u001b[0m \u001b[0mparser\u001b[0m\u001b[0;34m.\u001b[0m\u001b[0mread\u001b[0m\u001b[0;34m(\u001b[0m\u001b[0mnrows\u001b[0m\u001b[0;34m)\u001b[0m\u001b[0;34m\u001b[0m\u001b[0;34m\u001b[0m\u001b[0m\n\u001b[0m\u001b[1;32m    469\u001b[0m \u001b[0;34m\u001b[0m\u001b[0m\n\u001b[1;32m    470\u001b[0m \u001b[0;34m\u001b[0m\u001b[0m\n",
      "\u001b[0;32m~/.local/lib/python3.9/site-packages/pandas/io/parsers.py\u001b[0m in \u001b[0;36mread\u001b[0;34m(self, nrows)\u001b[0m\n\u001b[1;32m   1055\u001b[0m     \u001b[0;32mdef\u001b[0m \u001b[0mread\u001b[0m\u001b[0;34m(\u001b[0m\u001b[0mself\u001b[0m\u001b[0;34m,\u001b[0m \u001b[0mnrows\u001b[0m\u001b[0;34m=\u001b[0m\u001b[0;32mNone\u001b[0m\u001b[0;34m)\u001b[0m\u001b[0;34m:\u001b[0m\u001b[0;34m\u001b[0m\u001b[0;34m\u001b[0m\u001b[0m\n\u001b[1;32m   1056\u001b[0m         \u001b[0mnrows\u001b[0m \u001b[0;34m=\u001b[0m \u001b[0mvalidate_integer\u001b[0m\u001b[0;34m(\u001b[0m\u001b[0;34m\"nrows\"\u001b[0m\u001b[0;34m,\u001b[0m \u001b[0mnrows\u001b[0m\u001b[0;34m)\u001b[0m\u001b[0;34m\u001b[0m\u001b[0;34m\u001b[0m\u001b[0m\n\u001b[0;32m-> 1057\u001b[0;31m         \u001b[0mindex\u001b[0m\u001b[0;34m,\u001b[0m \u001b[0mcolumns\u001b[0m\u001b[0;34m,\u001b[0m \u001b[0mcol_dict\u001b[0m \u001b[0;34m=\u001b[0m \u001b[0mself\u001b[0m\u001b[0;34m.\u001b[0m\u001b[0m_engine\u001b[0m\u001b[0;34m.\u001b[0m\u001b[0mread\u001b[0m\u001b[0;34m(\u001b[0m\u001b[0mnrows\u001b[0m\u001b[0;34m)\u001b[0m\u001b[0;34m\u001b[0m\u001b[0;34m\u001b[0m\u001b[0m\n\u001b[0m\u001b[1;32m   1058\u001b[0m \u001b[0;34m\u001b[0m\u001b[0m\n\u001b[1;32m   1059\u001b[0m         \u001b[0;32mif\u001b[0m \u001b[0mindex\u001b[0m \u001b[0;32mis\u001b[0m \u001b[0;32mNone\u001b[0m\u001b[0;34m:\u001b[0m\u001b[0;34m\u001b[0m\u001b[0;34m\u001b[0m\u001b[0m\n",
      "\u001b[0;32m~/.local/lib/python3.9/site-packages/pandas/io/parsers.py\u001b[0m in \u001b[0;36mread\u001b[0;34m(self, nrows)\u001b[0m\n\u001b[1;32m   2059\u001b[0m     \u001b[0;32mdef\u001b[0m \u001b[0mread\u001b[0m\u001b[0;34m(\u001b[0m\u001b[0mself\u001b[0m\u001b[0;34m,\u001b[0m \u001b[0mnrows\u001b[0m\u001b[0;34m=\u001b[0m\u001b[0;32mNone\u001b[0m\u001b[0;34m)\u001b[0m\u001b[0;34m:\u001b[0m\u001b[0;34m\u001b[0m\u001b[0;34m\u001b[0m\u001b[0m\n\u001b[1;32m   2060\u001b[0m         \u001b[0;32mtry\u001b[0m\u001b[0;34m:\u001b[0m\u001b[0;34m\u001b[0m\u001b[0;34m\u001b[0m\u001b[0m\n\u001b[0;32m-> 2061\u001b[0;31m             \u001b[0mdata\u001b[0m \u001b[0;34m=\u001b[0m \u001b[0mself\u001b[0m\u001b[0;34m.\u001b[0m\u001b[0m_reader\u001b[0m\u001b[0;34m.\u001b[0m\u001b[0mread\u001b[0m\u001b[0;34m(\u001b[0m\u001b[0mnrows\u001b[0m\u001b[0;34m)\u001b[0m\u001b[0;34m\u001b[0m\u001b[0;34m\u001b[0m\u001b[0m\n\u001b[0m\u001b[1;32m   2062\u001b[0m         \u001b[0;32mexcept\u001b[0m \u001b[0mStopIteration\u001b[0m\u001b[0;34m:\u001b[0m\u001b[0;34m\u001b[0m\u001b[0;34m\u001b[0m\u001b[0m\n\u001b[1;32m   2063\u001b[0m             \u001b[0;32mif\u001b[0m \u001b[0mself\u001b[0m\u001b[0;34m.\u001b[0m\u001b[0m_first_chunk\u001b[0m\u001b[0;34m:\u001b[0m\u001b[0;34m\u001b[0m\u001b[0;34m\u001b[0m\u001b[0m\n",
      "\u001b[0;32mpandas/_libs/parsers.pyx\u001b[0m in \u001b[0;36mpandas._libs.parsers.TextReader.read\u001b[0;34m()\u001b[0m\n",
      "\u001b[0;32mpandas/_libs/parsers.pyx\u001b[0m in \u001b[0;36mpandas._libs.parsers.TextReader._read_low_memory\u001b[0;34m()\u001b[0m\n",
      "\u001b[0;32mpandas/_libs/parsers.pyx\u001b[0m in \u001b[0;36mpandas._libs.parsers.TextReader._read_rows\u001b[0;34m()\u001b[0m\n",
      "\u001b[0;32mpandas/_libs/parsers.pyx\u001b[0m in \u001b[0;36mpandas._libs.parsers.TextReader._convert_column_data\u001b[0;34m()\u001b[0m\n",
      "\u001b[0;32mpandas/_libs/parsers.pyx\u001b[0m in \u001b[0;36mpandas._libs.parsers._apply_converter\u001b[0;34m()\u001b[0m\n",
      "\u001b[0;32m/tmp/ipykernel_10694/2089117331.py\u001b[0m in \u001b[0;36m<lambda>\u001b[0;34m(cell)\u001b[0m\n\u001b[1;32m     10\u001b[0m         \u001b[0;34m'stalk-surface-below-ring'\u001b[0m\u001b[0;34m,\u001b[0m\u001b[0;34m'stalk-color-above-ring'\u001b[0m\u001b[0;34m,\u001b[0m\u001b[0;34m'stalk-color-below-ring'\u001b[0m\u001b[0;34m,\u001b[0m\u001b[0;34m'veil-type'\u001b[0m\u001b[0;34m,\u001b[0m\u001b[0;34m\u001b[0m\u001b[0;34m\u001b[0m\u001b[0m\n\u001b[1;32m     11\u001b[0m         'veil-color','ring-number','ring-type','spore-print-color','population','habitat')\n\u001b[0;32m---> 12\u001b[0;31m \u001b[0mmdata\u001b[0m \u001b[0;34m=\u001b[0m \u001b[0mpd\u001b[0m\u001b[0;34m.\u001b[0m\u001b[0mread_csv\u001b[0m\u001b[0;34m(\u001b[0m\u001b[0;34m'agaricus-lepiota.data'\u001b[0m\u001b[0;34m,\u001b[0m\u001b[0mnames\u001b[0m\u001b[0;34m=\u001b[0m\u001b[0mtup1\u001b[0m\u001b[0;34m,\u001b[0m\u001b[0mconverters\u001b[0m\u001b[0;34m=\u001b[0m\u001b[0;34m{\u001b[0m\u001b[0;34m'poisonous'\u001b[0m\u001b[0;34m:\u001b[0m \u001b[0;32mlambda\u001b[0m \u001b[0mcell\u001b[0m \u001b[0;34m:\u001b[0m\u001b[0mdwhole\u001b[0m\u001b[0;34m[\u001b[0m\u001b[0mtup1\u001b[0m\u001b[0;34m[\u001b[0m\u001b[0;34m'poisonous'\u001b[0m\u001b[0;34m]\u001b[0m\u001b[0;34m]\u001b[0m\u001b[0;34m[\u001b[0m\u001b[0mcell\u001b[0m\u001b[0;34m]\u001b[0m\u001b[0;34m}\u001b[0m\u001b[0;34m)\u001b[0m\u001b[0;34m\u001b[0m\u001b[0;34m\u001b[0m\u001b[0m\n\u001b[0m\u001b[1;32m     13\u001b[0m \u001b[0;31m#mdata = mdata.fillna(value=99)\u001b[0m\u001b[0;34m\u001b[0m\u001b[0;34m\u001b[0m\u001b[0m\n",
      "\u001b[0;31mTypeError\u001b[0m: tuple indices must be integers or slices, not str"
     ]
    }
   ],
   "source": [
    "def func(x,keyword='bar'):\n",
    "    return (x,keyword)\n",
    "\n",
    "func = lambda x,keyword='bar':(x,keyword)\n",
    "\n",
    "func = lambda cell :dwhole[tup1['poisonous']][cell]\n",
    "\n",
    "tup1 = ('poisonous','cap-shape','cap-surface','cap-color','bruises?','odor','gill-attachment',\n",
    "        'gill-spacing','gill-size','gill-color','stalk-shape','stalk-root','stalk-surface-above-ring',\n",
    "        'stalk-surface-below-ring','stalk-color-above-ring','stalk-color-below-ring','veil-type',\n",
    "        'veil-color','ring-number','ring-type','spore-print-color','population','habitat')\n",
    "mdata = pd.read_csv('agaricus-lepiota.data',names=tup1,converters={'poisonous': lambda cell :dwhole[tup1['poisonous']][cell]})\n",
    "#mdata = mdata.fillna(value=99)"
   ]
  }
 ],
 "metadata": {
  "kernelspec": {
   "display_name": "Python 3 (ipykernel)",
   "language": "python",
   "name": "python3"
  },
  "language_info": {
   "codemirror_mode": {
    "name": "ipython",
    "version": 3
   },
   "file_extension": ".py",
   "mimetype": "text/x-python",
   "name": "python",
   "nbconvert_exporter": "python",
   "pygments_lexer": "ipython3",
   "version": "3.9.7"
  }
 },
 "nbformat": 4,
 "nbformat_minor": 5
}
